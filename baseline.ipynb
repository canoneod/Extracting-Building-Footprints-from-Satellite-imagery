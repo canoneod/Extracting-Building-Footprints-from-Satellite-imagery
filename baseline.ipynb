{
  "nbformat": 4,
  "nbformat_minor": 2,
  "metadata": {
    "colab": {
      "name": "spacenet_datapreprocess.ipynb",
      "provenance": [],
      "collapsed_sections": []
    },
    "kernelspec": {
      "display_name": "Python 3",
      "name": "python3"
    },
    "language_info": {
      "name": "python"
    }
  },
  "cells": [
    {
      "cell_type": "code",
      "execution_count": null,
      "source": [
        "# installing required libraries\r\n",
        "!pip install geopandas\r\n",
        "!add-apt-repository ppa:ubuntugis/ppa -y\r\n",
        "!apt-get update\r\n",
        "!apt-get install python-numpy gdal-bin libgdal-dev python3-rtree\r\n",
        "!pip install rasterio"
      ],
      "outputs": [],
      "metadata": {
        "colab": {
          "base_uri": "https://localhost:8080/"
        },
        "id": "e94lep0vlXYm",
        "outputId": "d4e813af-54aa-4105-9c44-b34720b3d4a4"
      }
    },
    {
      "cell_type": "code",
      "execution_count": null,
      "source": [
        "from google.colab import drive\r\n",
        "drive.mount('/content/gdrive')\r\n",
        "\r\n",
        "import torch\r\n",
        "import torch.nn as nn\r\n",
        "import torch.nn.functional as F\r\n",
        "import torch.backends.cudnn as cudnn\r\n",
        "import torch.optim as optim\r\n",
        "\r\n",
        "%matplotlib inline\r\n",
        "%config InlineBackend.figure_format = 'retina'\r\n",
        "import matplotlib.pyplot as plt\r\n",
        "import numpy as np\r\n",
        "import skimage\r\n",
        "import os\r\n",
        "\r\n",
        "\r\n",
        "%cd /content/gdrive/MyDrive/SpaceNet\r\n",
        "import libs.solaris as sol # modified solaris library\r\n",
        "\r\n",
        "\r\n",
        "from glob import glob\r\n",
        "from utils.dist import *\r\n",
        "from data.dataset import *"
      ],
      "outputs": [],
      "metadata": {
        "colab": {
          "base_uri": "https://localhost:8080/"
        },
        "id": "1KV_-xu50RTD",
        "outputId": "584d830a-99ed-4726-adea-fc280f47ee11"
      }
    },
    {
      "cell_type": "code",
      "execution_count": null,
      "source": [
        "# load data and define transform\r\n",
        "import torchvision\r\n",
        "import torchvision.transforms as transforms\r\n",
        "\r\n",
        "class Resize(object):\r\n",
        "  def __init__(self, size):\r\n",
        "    self.size = size\r\n",
        "  def __call__(self, img):\r\n",
        "    return skimage.transform.resize(img, self.size)\r\n",
        "\r\n",
        "transform = transforms.Compose([transforms.ToTensor()])\r\n",
        "target_transform = transforms.Compose([Resize((162,162)),\r\n",
        "                                       transforms.ToTensor()])\r\n",
        "dataset = Spacenet(transform=transform, target_transform = target_transform)\r\n",
        "\r\n",
        "train, validation = torch.utils.data.random_split(dataset, [int(len(dataset)*0.8), len(dataset) - int(len(dataset)*0.8)])\r\n",
        "train_loader = torch.utils.data.DataLoader(train, batch_size = 5, shuffle=True, num_workers=2)\r\n",
        "validation_loader = torch.utils.data.DataLoader(validation, batch_size=5, shuffle=True, num_workers=2)"
      ],
      "outputs": [],
      "metadata": {
        "id": "ReUPQ1AZz0pX"
      }
    },
    {
      "cell_type": "code",
      "execution_count": null,
      "source": [
        "# baseline model\r\n",
        "from models.baseline import *\r\n",
        "device = 'cuda'\r\n",
        "\r\n",
        "net = FCnet(8, 1)\r\n",
        "net = net.to(device)\r\n",
        "#cudnn.benchmark = True\r\n",
        "\r\n",
        "file_name = 'FCNN_khartoum.pt'\r\n",
        "trained_dir = '/content/gdrive/MyDrive/SpaceNet/trained'\r\n",
        "\r\n",
        "criterion = nn.MSELoss(reduction='sum') # L2 Loss, matrix에서 loss계산?\r\n",
        "optimizer = optim.Adam(net.parameters(), lr=0.001, weight_decay = 0.1)"
      ],
      "outputs": [],
      "metadata": {
        "id": "xJ8s4CII9QfJ"
      }
    },
    {
      "cell_type": "code",
      "execution_count": null,
      "source": [
        "# train and evaluate\r\n",
        "from utils.eval import *\r\n",
        "import math\r\n",
        "val_loss = []\r\n",
        "\r\n",
        "def train(epoch):\r\n",
        "  print('\\n Current train epoch : ', epoch)\r\n",
        "  net.train()\r\n",
        "  for batch_idx, (imgs, targets) in enumerate(train_loader):\r\n",
        "    imgs, targets = imgs.to(device), targets.to(device)\r\n",
        "    optimizer.zero_grad()\r\n",
        "    outputs = net(imgs)\r\n",
        "\r\n",
        "    loss = criterion(outputs, targets)\r\n",
        "  \r\n",
        "    loss.backward()\r\n",
        "    if math.isnan(loss.item()):\r\n",
        "      raise KeyboardInterrupt('nan detected')\r\n",
        "    print('loss: ', loss.item())\r\n",
        "    optimizer.step()\r\n",
        "\r\n",
        "def test(epoch):\r\n",
        "  print('\\n current validation epoch: ', epoch)\r\n",
        "  net.eval()\r\n",
        "  total_loss = 0\r\n",
        "  for batch_idx, (imgs, targets) in enumerate(validation_loader):\r\n",
        "    imgs, targets = imgs.to(device), targets.to(device)\r\n",
        "    optimizer.zero_grad()\r\n",
        "    outputs = net(imgs)\r\n",
        "\r\n",
        "    loss = criterion(outputs, targets)\r\n",
        "    total_loss += loss.item()/10 # divide by batch size \r\n",
        "\r\n",
        "  state = {\r\n",
        "      'net': net.state_dict(),\r\n",
        "      'epoch': epoch,\r\n",
        "      'optimizer': optimizer.state_dict()\r\n",
        "  }\r\n",
        "  torch.save(state, os.path.join(trained_dir, file_name))\r\n",
        "  val_loss.append(total_loss)\r\n",
        "  print('\\n Current loss : ', total_loss) # get segmentation metrics \r\n"
      ],
      "outputs": [],
      "metadata": {
        "id": "ilClTTG3nSTW"
      }
    },
    {
      "cell_type": "code",
      "execution_count": null,
      "source": [
        "for epoch in range(1, 60):\r\n",
        "  train(epoch)\r\n",
        "  test(epoch)"
      ],
      "outputs": [],
      "metadata": {
        "colab": {
          "base_uri": "https://localhost:8080/"
        },
        "id": "5KqCcSKHtQ5G",
        "outputId": "a86a7ca8-7a87-4d93-922a-c84ecbe8a506"
      }
    }
  ]
}